{
 "cells": [
  {
   "cell_type": "markdown",
   "metadata": {},
   "source": [
    "# Price Trajectories for Cryptos"
   ]
  },
  {
   "cell_type": "code",
   "execution_count": 6,
   "metadata": {},
   "outputs": [],
   "source": [
    "#Libraries\n",
    "import pandas as pd\n",
    "import numpy as np\n",
    "import cvxopt\n",
    "from functools import partial\n",
    "import math\n",
    "import numpy as np\n",
    "import scipy\n",
    "from scipy import stats\n",
    "from scipy.stats import norm\n",
    "from scipy.stats import t\n",
    "from scipy.optimize import Bounds\n",
    "import statsmodels.api as sm\n",
    "from statsmodels.stats.stattools import jarque_bera\n",
    "import matplotlib.pyplot as plt"
   ]
  },
  {
   "cell_type": "markdown",
   "metadata": {},
   "source": [
    "## Estimate parameter of Ornstein-Uhlenbeck/Vasicek Model for historical data"
   ]
  },
  {
   "cell_type": "code",
   "execution_count": 37,
   "metadata": {},
   "outputs": [],
   "source": [
    "tdat=pd.read_csv('testO.csv', sep=';')\n",
    "theta=(3.355322,1.106107,2.052815)"
   ]
  },
  {
   "cell_type": "code",
   "execution_count": 59,
   "metadata": {},
   "outputs": [
    {
     "data": {
      "text/plain": [
       "count    1001.000000\n",
       "mean        3.030794\n",
       "std         1.381841\n",
       "min        -1.275577\n",
       "25%         2.038554\n",
       "50%         3.044210\n",
       "75%         3.941410\n",
       "max         6.806189\n",
       "Name: x, dtype: float64"
      ]
     },
     "execution_count": 59,
     "metadata": {},
     "output_type": "execute_result"
    }
   ],
   "source": [
    "tdat.x.describe()"
   ]
  },
  {
   "cell_type": "code",
   "execution_count": 72,
   "metadata": {},
   "outputs": [],
   "source": [
    "def neg_log_like_OU(y,theta):\n",
    "    dt = 0.01\n",
    "    x0 = y[:-1]\n",
    "    ml= (theta[0]/theta[1])+(x0-(theta[0]/theta[1]))*np.exp(-theta[1]*dt)\n",
    "    sl= ((theta[2]**2)*(1-np.exp(-2*theta[1]*dt)))/(2*theta[1])\n",
    "    loglike= np.sum(norm.pdf(y[1:], loc=ml,scale=np.sqrt(sl)))\n",
    "    return -loglike"
   ]
  },
  {
   "cell_type": "code",
   "execution_count": 73,
   "metadata": {},
   "outputs": [
    {
     "data": {
      "text/plain": [
       "-246.86057079588448"
      ]
     },
     "execution_count": 73,
     "metadata": {},
     "output_type": "execute_result"
    }
   ],
   "source": [
    "neg_log_like_OU(tdat.x,theta)"
   ]
  },
  {
   "cell_type": "code",
   "execution_count": 79,
   "metadata": {},
   "outputs": [],
   "source": [
    "objective = partial(neg_log_like_OU, tdat.x)\n",
    "bounds = Bounds([-3.5, 0.01, 0.01], [3.5, 5.0, 5.0])"
   ]
  },
  {
   "cell_type": "code",
   "execution_count": 80,
   "metadata": {},
   "outputs": [
    {
     "name": "stdout",
     "output_type": "stream",
     "text": [
      "theta MLE: [3.49999987 0.46217051 2.92637637]\n"
     ]
    }
   ],
   "source": [
    "# Actually do the minimization\n",
    "result = scipy.optimize.minimize(objective, (1,0.5,1), method='trust-constr', bounds=bounds)\n",
    "theta_mle = result.x\n",
    "print('theta MLE: ' + str(theta_mle))"
   ]
  },
  {
   "cell_type": "code",
   "execution_count": null,
   "metadata": {},
   "outputs": [],
   "source": []
  }
 ],
 "metadata": {
  "kernelspec": {
   "display_name": "Python 3",
   "language": "python",
   "name": "python3"
  },
  "language_info": {
   "codemirror_mode": {
    "name": "ipython",
    "version": 3
   },
   "file_extension": ".py",
   "mimetype": "text/x-python",
   "name": "python",
   "nbconvert_exporter": "python",
   "pygments_lexer": "ipython3",
   "version": "3.7.9"
  }
 },
 "nbformat": 4,
 "nbformat_minor": 2
}
